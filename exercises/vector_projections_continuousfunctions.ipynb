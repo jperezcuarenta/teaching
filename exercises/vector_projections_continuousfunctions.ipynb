{
 "cells": [
  {
   "cell_type": "markdown",
   "id": "7168aa7a",
   "metadata": {},
   "source": [
    "# Exercises for Contextualized Module Vector Projections\n",
    "\n",
    "## Preliminaries\n",
    "### Even and Odd Functions\n",
    "A function $f(x)$ is said to be _even_ if $f(-x) = f(x)$.\n",
    "\n",
    "The function $f(x)$ is said to be _odd_ if $f(-x) = -f(x)$.\n",
    "\n",
    "\n",
    "### Integrating odd functions over symmetric domains\n",
    "Let $p > 0$ be any fixed number. If $f(x)$ is an odd function, then\n",
    "$$\n",
    "    \\int_{-p}^{p} f(x)~dx = 0.\n",
    "$$\n",
    "\n",
    "### Integrating even functions over symmetric domains\n",
    "Let $p > 0$ be any fixed number. If $f(x)$ is an odd function, then\n",
    "$$\n",
    "    \\int_{-p}^{p} f(x)~dx = 2 \\int_{0}^{p} f(x)~dx.\n",
    "$$\n",
    "\n",
    "### Periodic functions\n",
    "A function $f(x)$ is said to be _periodic_ if there exists a number $T > 0$ such that $f(x + T) = f(x)$ for every $x$. The smallest such $T$ is called the _period_ of $f(x)$.\n",
    "\n",
    "### Fourier Series\n",
    "Let $p>0$ be a fixed number and $f(x)$ be a periodic function with period $2 p$, defined on $(-p, p)$. The Fourier series of $f(x)$ is a way of expanding the function $f(x)$ into an infinite series involving sines and cosines:\n",
    "\n",
    "$$\n",
    "    f(x)=\\frac{a_0}{2}+\\sum_{n=1}^{\\infty} a_n \\cos \\left(\\frac{n \\pi x}{p}\\right)+\\sum_{n=1}^{\\infty} b_n \\sin \\left(\\frac{n \\pi x}{p}\\right)\n",
    "$$\n",
    "\n",
    "where $a_0, a_n$, and $b_n$ are called the Fourier coefficients of $f(x)$, and are given by the formulas\n",
    "\n",
    "$$\n",
    "    \\begin{aligned}\n",
    "    a_0=\\frac{1}{p} \\int_{-p}^p f(x) d x, \\quad a_n & =\\frac{1}{p} \\int_{-p}^p f(x) \\cos \\left(\\frac{n \\pi x}{p}\\right) d x \\\\\n",
    "    b_n & =\\frac{1}{p} \\int_{-p}^p f(x) \\sin \\left(\\frac{n \\pi x}{p}\\right) d x\n",
    "    \\end{aligned}\n",
    "$$\n",
    "\n",
    "We previously motivated Fourier series using the case when $p=1$. Also, the formulation for $a_n$, $b_n$, and $a_0$ is a generalization of the inner product that we leverage when projecting vectors onto each other.\n",
    "\n",
    "### Useful trigonometric identities\n",
    "Let $n$ be an integer, then\n",
    "$$\n",
    "    \\sin(\\pi n) = 0\n",
    "$$\n",
    "and\n",
    "$$\n",
    "    \\cos(\\pi n) = (-1)^{n}.\n",
    "$$"
   ]
  },
  {
   "cell_type": "markdown",
   "id": "b06bb08d",
   "metadata": {},
   "source": [
    "## Exercises"
   ]
  },
  {
   "cell_type": "markdown",
   "id": "432c5099",
   "metadata": {},
   "source": [
    "### Exercise 1 - Fourier coefficients of an even function\n",
    "\n",
    "Let $f(x)$ be an even function. Show that the $b_n$ coefficients of the Fourier series expansion of $f(x)$ are all zero.\n",
    "\n",
    "<details>\n",
    "<summary>Click to show solution</summary>\n",
    "\n",
    "Assume $f(x)$ is an even function and define\n",
    "$$\n",
    "h(x) = f(x)\\sin\\left(\\frac{n\\pi x}{p}\\right).\n",
    "$$\n",
    "Note that \n",
    "$$\n",
    "h(-x) = f(-x) \\sin\\left(\\frac{n\\pi (-x)}{p}\\right) = -f(x)\\sin\\left(\\frac{n\\pi x}{p}\\right) = - h(x)\n",
    "$$\n",
    "and hence $h(x)$ is an odd function.\n",
    "\n",
    "Now,\n",
    "\\begin{aligned}\n",
    "    b_n & = \\frac{1}{p} \\int_{-p}^{p} f(x) \\sin\\left( \\frac{n\\pi x}{p} \\right) ~ dx  \\\\\n",
    "        & = \\frac{1}{p} \\int_{-p}^{p} h(x) ~ dx \\\\\n",
    "        & = 0.\n",
    "\\end{aligned}\n",
    "\n",
    "</details>\n"
   ]
  },
  {
   "cell_type": "markdown",
   "id": "6ca195e3",
   "metadata": {
    "vscode": {
     "languageId": "plaintext"
    }
   },
   "source": [
    "### Exercise 2 - Fourier coefficients of an odd function\n",
    "\n",
    "Let $f(x)$ be an odd function. Show that the $a_n$ coefficients of the Fourier series expansion of $f(x)$ are all zero.\n",
    "\n",
    "<details>\n",
    "<summary>Click to show solution</summary>\n",
    "\n",
    "Assume $f(x)$ is an odd function. First, we get $a_0$,\n",
    "$$\n",
    "a_0 = \\frac{1}{p} \\int_{-p}^{p} f(x) ~ dx = 0.\n",
    "$$\n",
    "Now define\n",
    "$$\n",
    "    h(x) = f(x) \\cos\\left( \\frac{n \\pi x}{p} \\right)\n",
    "$$\n",
    "and observe that\n",
    "$$\n",
    "    h(-x) = f(-x) \\cos\\left( \\frac{n \\pi (-x)}{p} \\right) = -f(x) \\cos\\left( \\frac{n \\pi x}{p} \\right) = -h(x)\n",
    "$$\n",
    "hence $h(x)$ is odd. Finally, we see that\n",
    "\\begin{aligned}\n",
    "    a_n & = \\frac{1}{p} \\int_{-p}^{p} f(x) \\cos\\left( \\frac{n \\pi x}{p} \\right) ~ dx \\\\\n",
    "        & = \\frac{1}{p} \\int_{-p}^{p} h(x) ~ dx \\\\\n",
    "        & = 0.\n",
    "\\end{aligned}\n",
    "\n",
    "</details>\n"
   ]
  },
  {
   "cell_type": "markdown",
   "id": "543649d2",
   "metadata": {
    "vscode": {
     "languageId": "plaintext"
    }
   },
   "source": [
    "### Exercise 3 - Interpretation of Fourier coefficients of odd and even functions\n",
    "\n",
    "What is the significance of the previous two examples?\n",
    "\n",
    "<details>\n",
    "<summary>Click to show solution</summary>\n",
    "\n",
    "In the context of projections,  even functions are orthogonal to the sine functions. Similarly, odd functions are orthogonal to the cosine functions.\n",
    "\n",
    "In other words, even functions cannot be reconstructed from odd functions and vice-versa.\n",
    "\n",
    "</details>\n"
   ]
  },
  {
   "cell_type": "markdown",
   "id": "689c37c0",
   "metadata": {
    "vscode": {
     "languageId": "plaintext"
    }
   },
   "source": [
    "### Exercise 4 - Fourier series expansion\n",
    "\n",
    "Let $f(x)$ be periodic and defined on one period by the formula\n",
    "\n",
    "\\begin{aligned}\n",
    "    f(x) = \\begin{cases}\n",
    "        -1 & \\text{if } -2 < x < 0 \\\\\n",
    "        1 & \\text{if } 0 < x < 2 \\\\\n",
    "    \\end{cases}\n",
    "\\end{aligned}\n",
    "find the Fourier series expansion for $f(x)$.\n",
    "\n",
    "_Extra_: The next cell is a visual aid useful for understanding the impact of truncating the Fourier series since in practice we don't deal with infinity.\n",
    "<details>\n",
    "<summary>Click to show solution</summary>\n",
    "\n",
    "Since $f(x)$ is an odd function we get $a_0 = a_n = 0$ for all $n$. Now,\n",
    "\\begin{aligned}\n",
    "    b_n & = \\frac{1}{2} \\int_{-2}^{2} f(x) \\sin\\left( \\frac{n\\pi x}{2} \\right) ~ dx \\\\\n",
    "        & = \\frac{2}{n \\pi} \\left( 1 - \\cos\\left( n \\pi \\right) \\right) \\\\\n",
    "        & = \\frac{2}{n \\pi} \\left( 1 - \\left( -1 \\right)^{n} \\right).\n",
    "\\end{aligned}\n",
    "Therefore,\n",
    "\\begin{aligned}\n",
    "    f(x) & = \\sum_{n=1}^{\\infty} b_{n} \\sin\\left( \\frac{n\\pi x}{2} \\right) \\\\\n",
    "        & = \\sum_{n=1}^{\\infty} \\frac{2}{n\\pi} \\left( 1 - \\left( -1 \\right)^{n} \\right) \\sin\\left( \\frac{n\\pi x}{2} \\right) \\\\\n",
    "        & = \\frac{4}{\\pi} \\sin\\left( \\frac{\\pi x}{2} \\right) + \\frac{4}{3 \\pi} \\sin\\left( \\frac{3\\pi x}{2} \\right) + \\ldots\n",
    "\\end{aligned}\n",
    "\n",
    "</details>\n"
   ]
  },
  {
   "cell_type": "code",
   "execution_count": null,
   "id": "380f0107",
   "metadata": {},
   "outputs": [
    {
     "data": {
      "application/vnd.jupyter.widget-view+json": {
       "model_id": "ea49439c129647ddb835b48b237c25cc",
       "version_major": 2,
       "version_minor": 0
      },
      "text/plain": [
       "interactive(children=(IntSlider(value=1, description='N', max=51, min=1, step=2), Output()), _dom_classes=('wi…"
      ]
     },
     "metadata": {},
     "output_type": "display_data"
    }
   ],
   "source": [
    "import numpy as np\n",
    "import plotly.graph_objects as go\n",
    "from ipywidgets import interact, IntSlider\n",
    "\n",
    "# Function parameters\n",
    "L = 2\n",
    "T = 2 * L\n",
    "x = np.linspace(-6, 6, 1000)\n",
    "\n",
    "# Define the original periodic function f(x)\n",
    "def f_original(x):\n",
    "    x_mod = ((x + L) % T) - L\n",
    "    return np.where(x_mod < 0, -1, np.where(x_mod > 0, 1, 0))\n",
    "\n",
    "# Compute b_n using numerical integration over [-2, 2]\n",
    "def bn(n):\n",
    "    x1 = np.linspace(-2, 0, 500)\n",
    "    x2 = np.linspace(0, 2, 500)\n",
    "    f1 = -1 * np.sin(n * np.pi * x1 / L)\n",
    "    f2 =  1 * np.sin(n * np.pi * x2 / L)\n",
    "    integral = np.trapezoid(f1, x1) + np.trapezoid(f2, x2)\n",
    "    return (1 / L) * integral\n",
    "\n",
    "# Fourier approximation up to N terms\n",
    "def fourier_approx(x, N):\n",
    "    result = np.zeros_like(x)\n",
    "    for n in range(1, N + 1):\n",
    "        if n % 2 == 0:\n",
    "            continue  # skip even n (b_n = 0 for even n)\n",
    "        b_n = bn(n)\n",
    "        result += b_n * np.sin(n * np.pi * x / L)\n",
    "    return result\n",
    "\n",
    "# Plotting function using Plotly\n",
    "def plot_fourier(N):\n",
    "    y_true = f_original(x)\n",
    "    y_approx = fourier_approx(x, N)\n",
    "    \n",
    "    fig = go.Figure()\n",
    "\n",
    "    fig.add_trace(go.Scatter(x=x, y=y_true, mode='lines', name='Original f(x)', line=dict(color='black')))\n",
    "    fig.add_trace(go.Scatter(x=x, y=y_approx, mode='lines', name=f'Fourier Approx (N={N})', line=dict(color='red')))\n",
    "    \n",
    "    fig.update_layout(\n",
    "        title=f'Fourier Series Approximation with N={N} Terms',\n",
    "        xaxis_title='x',\n",
    "        yaxis_title='f(x)',\n",
    "        yaxis=dict(range=[-1.5, 1.5]),\n",
    "        legend=dict(x=0.01, y=0.99),\n",
    "        width=900,\n",
    "        height=400\n",
    "    )\n",
    "    \n",
    "    fig.show()\n",
    "\n",
    "# Interactive slider\n",
    "interact(plot_fourier, N=IntSlider(min=1, max=51, step=2, value=1)); # suppress output"
   ]
  },
  {
   "cell_type": "code",
   "execution_count": null,
   "id": "33686086",
   "metadata": {},
   "outputs": [],
   "source": []
  }
 ],
 "metadata": {
  "kernelspec": {
   "display_name": "teaching",
   "language": "python",
   "name": "python3"
  },
  "language_info": {
   "codemirror_mode": {
    "name": "ipython",
    "version": 3
   },
   "file_extension": ".py",
   "mimetype": "text/x-python",
   "name": "python",
   "nbconvert_exporter": "python",
   "pygments_lexer": "ipython3",
   "version": "3.12.9"
  }
 },
 "nbformat": 4,
 "nbformat_minor": 5
}
