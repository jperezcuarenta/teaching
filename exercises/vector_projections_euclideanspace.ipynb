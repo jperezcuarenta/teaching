{
 "cells": [
  {
   "cell_type": "markdown",
   "id": "bab75bca",
   "metadata": {},
   "source": [
    "# Exercises for Contextualized Module Vector Projections\n",
    "\n",
    "## Preliminaries\n",
    "Let $\\mathbf{u}, \\mathbf{v}$, and $\\mathbf{w}$ be vectors, and let $c$ be a scalar.\n",
    "\n",
    "i.  Commutative property\n",
    "    $$\n",
    "        \\mathbf{u} \\cdot \\mathbf{v} = \\mathbf{v} \\cdot \\mathbf{u}\n",
    "    $$\n",
    "ii. Distributive property\n",
    "    $$\n",
    "        \\mathbf{u} \\cdot(\\mathbf{v}+\\mathbf{w})=\\mathbf{u} \\cdot \\mathbf{v}+\\mathbf{u} \\cdot \\mathbf{w}\n",
    "    $$\n",
    "iii. Associative property\n",
    "    $$\n",
    "        c(\\mathbf{u} \\cdot \\mathbf{v})=(c \\mathbf{u}) \\cdot \\mathbf{v}=\\mathbf{u} \\cdot(c \\mathbf{v})\n",
    "    $$\n",
    "iv. Property of magnitude\n",
    "    $$\n",
    "        \\mathbf{v} \\cdot \\mathbf{v}=\\|\\mathbf{v}\\|^2\n",
    "    $$"
   ]
  },
  {
   "cell_type": "markdown",
   "id": "b4a1b916",
   "metadata": {
    "vscode": {
     "languageId": "plaintext"
    }
   },
   "source": [
    "## Exercises"
   ]
  },
  {
   "cell_type": "markdown",
   "id": "f11b91c6",
   "metadata": {
    "vscode": {
     "languageId": "plaintext"
    }
   },
   "source": [
    "### Exercise 1 - Using Properties of the Dot Product\n",
    "Let $\\mathbf{a}=\\langle 1,2,-3\\rangle, \\mathbf{b}=\\langle 0,2,4\\rangle$, and $\\mathbf{c}=\\langle 5,-1,3\\rangle$. Find each of the following products.\n",
    "\n",
    "1. $(\\mathbf{a} \\cdot \\mathbf{b}) \\mathbf{c}$\n",
    "2. $\\mathbf{a} \\cdot(2 \\mathbf{c})$\n",
    "3. $\\|\\mathbf{b}\\|^2$\n",
    "<details>\n",
    "<summary>Click to show solution</summary>\n",
    "\n",
    "1. Note that this expression asks for the scalar multiple of $\\mathbf{c}$ by $\\mathbf{a} \\cdot \\mathbf{b}$ :\n",
    "\n",
    "$$\n",
    "\\begin{aligned}\n",
    "(\\mathbf{a} \\cdot \\mathbf{b}) \\mathbf{c} & =(\\langle 1,2,-3\\rangle \\cdot\\langle 0,2,4\\rangle)\\langle 5,-1,3\\rangle \\\\\n",
    "& =(1(0)+2(2)+(-3)(4))\\langle 5,-1,3\\rangle \\\\\n",
    "& =-8\\langle 5,-1,3\\rangle \\\\\n",
    "& =\\langle-40,8,-24\\rangle .\n",
    "\\end{aligned}\n",
    "$$\n",
    "\n",
    "2. This expression is a dot product of vector a and scalar multiple 2 c:\n",
    "\n",
    "$$\n",
    "\\begin{aligned}\n",
    "\\mathbf{a} \\cdot(2 \\mathbf{c}) & =2(\\mathbf{a} \\cdot \\mathbf{c}) \\\\\n",
    "& =2(\\langle 1,2,-3\\rangle \\cdot\\langle 5,-1,3\\rangle) \\\\\n",
    "& =2(1(5)+2(-1)+(-3)(3)) \\\\\n",
    "& =2(-6)=-12\n",
    "\\end{aligned}\n",
    "$$\n",
    "\n",
    "3. Simplifying this expression is a straightforward application of the dot product:\n",
    "\n",
    "$$\n",
    "\\|\\mathbf{b}\\|^2=\\mathbf{b} \\cdot \\mathbf{b}=\\langle 0,2,4\\rangle \\cdot\\langle 0,2,4\\rangle=0^2+2^2+4^2=0+4+16=20\n",
    "$$\n",
    "</details>"
   ]
  },
  {
   "cell_type": "markdown",
   "id": "f1be09d1",
   "metadata": {},
   "source": [
    "### Exercise 2 - Identifying Orthogonal Vectors\n",
    "Determine whether $\\mathbf{p}=\\langle 1,0,5\\rangle$ and $\\mathbf{q}=\\langle10,3,−2\\rangle$ are orthogonal vectors.\n",
    "<details>\n",
    "<summary>Click to show solution</summary>\n",
    "\n",
    "We have\n",
    "$$\n",
    "    \\mathbf{p} \\cdot \\mathbf{q} = (1)(10) + (0)(3) + (5)(-2) = 10 + 0 - 10 = 0.\n",
    "$$\n",
    "Since the dot product of $\\mathbf{p}$ and $\\mathbf{q}$ is zero, the vectors are orthogonal to each other.\n",
    "\n",
    "</details>"
   ]
  },
  {
   "cell_type": "markdown",
   "id": "beeaffc6",
   "metadata": {},
   "source": [
    "### Exercise 3 - Finding Projections\n",
    "Find the projection of $\\mathbf{v}$ onto $\\mathbf{u}$.\n",
    "\n",
    "1. $\\mathbf{v}=\\langle 3,5,1\\rangle$ and $\\mathbf{u}=\\langle-1,4,3\\rangle$\n",
    "\n",
    "2. $\\mathbf{v}=3 \\mathbf{i}-2 \\mathbf{j}$ and $\\mathbf{u}=\\mathbf{i}+6 \\mathbf{j}$\n",
    "\n",
    "<details>\n",
    "<summary>Click to show solution</summary>\n",
    "\n",
    "1. Substitute the components of $\\mathbf{v}$ and $\\mathbf{u}$ into the formula for the projection:\n",
    "\n",
    "$$\n",
    "\\begin{aligned}\n",
    "\\operatorname{proj}_{\\mathbf{u}} \\mathbf{v} & =\\frac{\\mathbf{u} \\cdot \\mathbf{v}}{\\|\\mathbf{u}\\|^2} \\mathbf{u} \\\\\n",
    "& =\\frac{\\langle-1,4,3\\rangle \\cdot\\langle 3,5,1\\rangle}{\\|\\langle-1,4,3\\rangle\\|^2}\\langle-1,4,3\\rangle \\\\\n",
    "& =\\frac{-3+20+3}{(-1)^2+4^2+3^2}\\langle-1,4,3\\rangle \\\\\n",
    "& =\\frac{20}{26}\\langle-1,4,3\\rangle \\\\\n",
    "& =\\left\\langle-\\frac{10}{13}, \\frac{40}{13}, \\frac{30}{13}\\right\\rangle\n",
    "\\end{aligned}\n",
    "$$\n",
    "\n",
    "2. To find the two-dimensional projection, simply adapt the formula to the two-dimensional case:\n",
    "\n",
    "$$\n",
    "\\begin{aligned}\n",
    "\\operatorname{proj}_{\\mathbf{u}} \\mathbf{v} & =\\frac{\\mathbf{u} \\cdot \\mathbf{v}}{\\|\\mathbf{u}\\|^2} \\mathbf{u} \\\\\n",
    "& =\\frac{(\\mathbf{i}+6 \\mathbf{j}) \\cdot(3 \\mathbf{i}-2 \\mathbf{j})}{\\|\\mathbf{i}+6 \\mathbf{j}\\|^2}(\\mathbf{i}+6 \\mathbf{j}) \\\\\n",
    "& =\\frac{1(3)+6(-2)}{1^2+6^2}(\\mathbf{i}+6 \\mathbf{j}) \\\\\n",
    "& =-\\frac{9}{37}(\\mathbf{i}+6 \\mathbf{j}) \\\\\n",
    "& =-\\frac{9}{37} \\mathbf{i}-\\frac{54}{37} \\mathbf{j}\n",
    "\\end{aligned}\n",
    "$$\n",
    "</details>"
   ]
  },
  {
   "cell_type": "markdown",
   "id": "4ace9483",
   "metadata": {
    "vscode": {
     "languageId": "plaintext"
    }
   },
   "source": [
    "### Example 4 - Resolving Vectors into Components\n",
    "\n",
    "Express $\\mathbf{v}=\\langle 8,-3,-3\\rangle$ as a sum of orthogonal vectors such that one of the vectors has the same direction as $\\mathbf{u}=\\langle 2,3,2\\rangle$.\n",
    "\n",
    "<details>\n",
    "<summary>Click to show solution</summary>\n",
    "\n",
    "Let $\\mathbf{p}$ represent the projection of $\\mathbf{v}$ onto $\\mathbf{u}$ :\n",
    "\n",
    "$$\n",
    "\\begin{aligned}\n",
    "\\mathbf{p} & =\\operatorname{proj}_{\\mathbf{u}} \\mathbf{v} \\\\\n",
    "& =\\frac{\\mathbf{u} \\cdot \\mathbf{v}}{\\|\\mathbf{u}\\|^2} \\mathbf{u} \\\\\n",
    "& =\\frac{\\langle 2,3,2\\rangle \\cdot\\langle 8,-3,-3\\rangle}{\\|\\langle 2,3,2\\rangle\\|^2}\\langle 2,3,2\\rangle \\\\\n",
    "& =\\frac{16-9-6}{2^2+3^2+2^2}\\langle 2,3,2\\rangle \\\\\n",
    "& =\\frac{1}{17}\\langle 2,3,2\\rangle \\\\\n",
    "& =\\left\\langle\\frac{2}{17}, \\frac{3}{17}, \\frac{2}{17}\\right\\rangle\n",
    "\\end{aligned}\n",
    "$$\n",
    "\n",
    "\n",
    "Then,\n",
    "\n",
    "$$\n",
    "\\mathbf{q}=\\mathbf{v}-\\mathbf{p}=\\langle 8,-3,-3\\rangle-\\left\\langle\\frac{2}{17}, \\frac{3}{17}, \\frac{2}{17}\\right\\rangle=\\left\\langle\\frac{134}{17},-\\frac{54}{17},-\\frac{53}{17}\\right\\rangle .\n",
    "$$\n",
    "\n",
    "\n",
    "To check our work, we can use the dot product to verify that $\\mathbf{p}$ and $\\mathbf{q}$ are orthogonal vectors:\n",
    "\n",
    "$$\n",
    "\\mathbf{p} \\cdot \\mathbf{q}=\\left\\langle\\frac{2}{17}, \\frac{3}{17}, \\frac{2}{17}\\right\\rangle \\cdot\\left\\langle\\frac{134}{17},-\\frac{54}{17},-\\frac{53}{17}\\right\\rangle=\\frac{268}{289}-\\frac{162}{289}-\\frac{106}{289}=0 .\n",
    "$$\n",
    "\n",
    "\n",
    "Then,\n",
    "\n",
    "$$\n",
    "\\mathbf{v}=\\mathbf{p}+\\mathbf{q}=\\left\\langle\\frac{2}{17}, \\frac{3}{17}, \\frac{2}{17}\\right\\rangle+\\left\\langle\\frac{134}{17},-\\frac{54}{17},-\\frac{53}{17}\\right\\rangle .\n",
    "$$\n",
    "\n",
    "</details>"
   ]
  }
 ],
 "metadata": {
  "language_info": {
   "name": "python"
  }
 },
 "nbformat": 4,
 "nbformat_minor": 5
}
