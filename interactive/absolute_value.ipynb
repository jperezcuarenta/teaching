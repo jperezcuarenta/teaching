{
 "cells": [
  {
   "cell_type": "code",
   "execution_count": 133,
   "metadata": {},
   "outputs": [],
   "source": [
    "import matplotlib.pyplot as plt\n",
    "import numpy as np"
   ]
  },
  {
   "cell_type": "code",
   "execution_count": 137,
   "metadata": {},
   "outputs": [],
   "source": [
    "class Interval:\n",
    "    def __init__(self, start_val, end_val, start_type, end_type, color, id):\n",
    "        \"\"\"\n",
    "        Define instance fields.\n",
    "        \"\"\"\n",
    "        self.start_val = start_val\n",
    "        self.end_val = end_val\n",
    "        self.start_type = start_type\n",
    "        self.end_type = end_type\n",
    "        self.color = color\n",
    "        self.id = id\n",
    "    \n",
    "    def get_parameters(self) -> dict:\n",
    "        \"\"\"\n",
    "        Return all attributes of a given Interval in a dictionary.\n",
    "        \"\"\"\n",
    "        return {\n",
    "            'min_val': self.start_val,\n",
    "            'max_val': self.end_val,\n",
    "            'left': self.start_type,\n",
    "            'right': self.end_type,\n",
    "            'color': self.color,\n",
    "            'id': self.id,\n",
    "        }"
   ]
  },
  {
   "cell_type": "code",
   "execution_count": 139,
   "metadata": {},
   "outputs": [],
   "source": [
    "def plot_intervals(interval_list):\n",
    "    \"\"\"\n",
    "    Plots intervals on a real number line.\n",
    "    \"\"\"\n",
    "    _, ax = plt.subplots(figsize=(10, 6))\n",
    "    y_position = 0\n",
    "    padding = 5\n",
    "    line_width = 3\n",
    "    marker_size = 10\n",
    "    marker_edge_width = 1\n",
    "    global_min = np.inf\n",
    "    global_max = -np.inf\n",
    "    for attrs in interval_list:\n",
    "        min_val = attrs['min_val']\n",
    "        if min_val < global_min:\n",
    "            global_min = min_val\n",
    "        max_val = attrs['max_val']\n",
    "        if global_max < max_val:\n",
    "            global_max = max_val\n",
    "        left = attrs['left']\n",
    "        right = attrs['right']\n",
    "        clr = attrs['color']\n",
    "        interval = [(min_val, max_val)]\n",
    "\n",
    "        if left not in ['closed', 'open']:\n",
    "            raise ValueError(f\"Cannot parse string: {left}, expecting 'closed' or 'open'.\")\n",
    "        if right not in ['closed', 'open']:\n",
    "            raise ValueError(f\"Cannot parse string: {right}, expecting 'closed' or 'open'.\")\n",
    "        label = ''\n",
    "        if left == 'open':\n",
    "            label += '('\n",
    "            lmfc='none'\n",
    "        else:\n",
    "            label += '['\n",
    "            lmfc=None\n",
    "        label += f'{min_val}, {max_val}'\n",
    "        if right == 'open':\n",
    "            label += ')'\n",
    "            rmfc='none'\n",
    "        else:\n",
    "            label += ']'\n",
    "            rmfc=None\n",
    "\n",
    "        ax.axhline(y=y_position, color='black', linewidth=1)\n",
    "        for start, end in interval:\n",
    "            ax.plot([start, end], [y_position, y_position], color=clr, linewidth=line_width, label=f\"{attrs['id']}: {label}\")\n",
    "            ax.plot(start, y_position, marker='o', markersize=marker_size, color=clr,  markeredgecolor='black', markerfacecolor=lmfc, markeredgewidth=marker_edge_width)\n",
    "            ax.plot(end, y_position, marker='o', markersize=marker_size, color=clr, markeredgecolor='black', markerfacecolor=rmfc, markeredgewidth=marker_edge_width)\n",
    "        ax.set_yticks([])\n",
    "        ax.set_yticklabels([])\n",
    "        y_position -= 1\n",
    "    \n",
    "    ax.set_ylim(y_position - 1, 3)\n",
    "    ax.set_xlim(global_min - padding, global_max + padding)\n",
    "    ax.legend()    \n",
    "    plt.show()\n"
   ]
  },
  {
   "cell_type": "markdown",
   "metadata": {},
   "source": [
    "### Example 1"
   ]
  },
  {
   "cell_type": "code",
   "execution_count": null,
   "metadata": {},
   "outputs": [
    {
     "data": {
      "image/png": "[encoded data removed]",
      "text/plain": [
       "<Figure size 1000x600 with 1 Axes>"
      ]
     },
     "metadata": {},
     "output_type": "display_data"
    }
   ],
   "source": [
    "inputs = []\n",
    "inputs.append(Interval(1, 10, 'open', 'closed', 'blue', 'Interval A').get_parameters())\n",
    "inputs.append(Interval(-1, 5, 'closed', 'closed', 'red', 'Interval B').get_parameters())\n",
    "inputs.append(Interval(-1, 5, 'closed', 'open', 'purple', 'Interval C').get_parameters())\n",
    "plot_intervals(inputs)"
   ]
  },
  {
   "cell_type": "markdown",
   "metadata": {},
   "source": [
    "### Example 2\n",
    "\n",
    "Solve and graph the solution set\n",
    "$$\n",
    "    |x + 2| < 3.\n",
    "$$\n",
    "\n",
    "<details>\n",
    "<summary>Click to show solution</summary>\n",
    "\n",
    "Bound the argument $x + 2$ by $-3$ and $3$ and solve.\n",
    "$$\n",
    "    \\begin{aligned}\n",
    "\\begin{array} { c } { | x + 2 | < 3 } \\\\ { - 3 < x + 2 < 3 } \\\\ { - 3 \\color{blue}{- 2}\\color{Black}{ <} x + 2 \\color{blue}{- 2}\\color{Black}{ <} 3 \\color{blue}{- 2} } \\\\ { - 5 < x < 1 } \\end{array}\n",
    "    \\end{aligned}\n",
    "$$\n",
    "\n",
    "</details>"
   ]
  },
  {
   "cell_type": "code",
   "execution_count": 142,
   "metadata": {},
   "outputs": [
    {
     "data": {
      "image/png": "[encoded data removed]",
      "text/plain": [
       "<Figure size 1000x600 with 1 Axes>"
      ]
     },
     "metadata": {},
     "output_type": "display_data"
    }
   ],
   "source": [
    "inputs = []\n",
    "inputs.append(Interval(-5, 1, 'open', 'open', 'blue', 'Interval A').get_parameters())\n",
    "plot_intervals(inputs)"
   ]
  },
  {
   "cell_type": "code",
   "execution_count": null,
   "metadata": {},
   "outputs": [],
   "source": []
  }
 ],
 "metadata": {
  "kernelspec": {
   "display_name": "teaching",
   "language": "python",
   "name": "python3"
  },
  "language_info": {
   "codemirror_mode": {
    "name": "ipython",
    "version": 3
   },
   "file_extension": ".py",
   "mimetype": "text/x-python",
   "name": "python",
   "nbconvert_exporter": "python",
   "pygments_lexer": "ipython3",
   "version": "3.12.9"
  }
 },
 "nbformat": 4,
 "nbformat_minor": 2
}
